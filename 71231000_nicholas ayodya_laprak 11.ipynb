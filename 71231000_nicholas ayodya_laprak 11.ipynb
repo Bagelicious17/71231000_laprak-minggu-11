{
 "cells": [
  {
   "cell_type": "code",
   "execution_count": 26,
   "metadata": {},
   "outputs": [],
   "source": [
    "p=(90,90,90,90,90,90)\n",
    "x=p[0]\n",
    "indicator=True\n",
    "for i in p:\n",
    "    if i == x:\n",
    "        indicator=True\n",
    "    else:\n",
    "        indicator=False\n",
    "        break\n",
    "    x=i\n",
    "print(indicator)"
   ]
  },
  {
   "cell_type": "code",
   "execution_count": 23,
   "metadata": {},
   "outputs": [
    {
     "name": "stdout",
     "output_type": "stream",
     "text": [
      "Data:  ('Matahari Bhakti Nendya', '22064091', 'Bantul, DI Yogyakarta')\n",
      "NIM    : 22064091\n",
      "NAMA   : Matahari Bhakti Nendya\n",
      "ALAMAT : Bantul, DI Yogyakarta\n",
      "\n",
      "NIM: ('2', '2', '0', '6', '4', '0', '9', '1')\n",
      "NAMA DEPAN: ('a', 't', 'a', 'h', 'a', 'r', 'i')\n",
      "NAMA TERBALIK: ('Nendya', 'Bhakti', 'Matahari')\n"
     ]
    }
   ],
   "source": [
    "t=(\"Matahari Bhakti Nendya\",\"22064091\",\"Bantul, DI Yogyakarta\")\n",
    "(nama, nim, alamat)=t\n",
    "nama_kebalik=str(t[0]).split()\n",
    "nama_kebalik.reverse()\n",
    "p=nama.split()\n",
    "q=tuple(p[0])\n",
    "x=tuple(q[1:])\n",
    "print(f\"Data:  {t}\\nNIM    : {nim}\\nNAMA   : {nama}\\nALAMAT : {alamat}\")\n",
    "print(f\"\\nNIM: {tuple(t[1])}\\nNAMA DEPAN: {tuple(x)}\\nNAMA TERBALIK: {tuple(nama_kebalik)}\")"
   ]
  },
  {
   "cell_type": "code",
   "execution_count": 25,
   "metadata": {},
   "outputs": [
    {
     "name": "stdout",
     "output_type": "stream",
     "text": [
      "04 3\n",
      "06 1\n",
      "07 1\n",
      "09 2\n",
      "10 3\n",
      "11 6\n",
      "14 1\n",
      "15 2\n",
      "16 4\n",
      "17 2\n",
      "18 1\n",
      "19 1\n"
     ]
    }
   ],
   "source": [
    "p=input(\"masukkan nama file: \")\n",
    "file=open(p)\n",
    "q=dict()\n",
    "\n",
    "for i in file:\n",
    "    if i.startswith(\"From \"):\n",
    "        k = i.split()\n",
    "        w = k[5]\n",
    "        j = w.split(\":\")[0]\n",
    "        if j not in q:\n",
    "            q[j]=1\n",
    "        else:\n",
    "            q[j]+=1\n",
    "    else:\n",
    "        continue\n",
    "hasil = sorted(q.items())\n",
    "\n",
    "for x, y in hasil:\n",
    "    print(x, y)"
   ]
  }
 ],
 "metadata": {
  "kernelspec": {
   "display_name": "Python 3",
   "language": "python",
   "name": "python3"
  },
  "language_info": {
   "codemirror_mode": {
    "name": "ipython",
    "version": 3
   },
   "file_extension": ".py",
   "mimetype": "text/x-python",
   "name": "python",
   "nbconvert_exporter": "python",
   "pygments_lexer": "ipython3",
   "version": "3.12.2"
  }
 },
 "nbformat": 4,
 "nbformat_minor": 2
}
